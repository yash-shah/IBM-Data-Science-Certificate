{
 "cells": [
  {
   "cell_type": "markdown",
   "id": "ad7946ae-3e50-4691-97f1-b7c36d59e153",
   "metadata": {},
   "source": [
    "# Data Science Tools and Ecosystem"
   ]
  },
  {
   "cell_type": "markdown",
   "id": "b0a710b5-3c99-4cfc-9bec-91628ce46062",
   "metadata": {},
   "source": [
    "## In this notebook, Data Science Tools and Ecosystem are summarized."
   ]
  },
  {
   "cell_type": "markdown",
   "id": "03ab9371-88d3-4d5f-8ab7-de92ace250c2",
   "metadata": {},
   "source": [
    "**Objectives:**\n",
    "- List popular languages for Data Science\n",
    "- Some of the commonly used libraries used by Data Scientists\n",
    "- A few examples of evaluating arithmetic expressions in Python\n"
   ]
  },
  {
   "cell_type": "markdown",
   "id": "9fae3cc2-a341-4626-8fc8-f9912ef23206",
   "metadata": {},
   "source": [
    "## Author\n",
    "Yash Shah"
   ]
  },
  {
   "cell_type": "markdown",
   "id": "9f067f67-6d0d-43c0-ba51-05086104cb53",
   "metadata": {},
   "source": [
    "# Some of the popular languages that Data Scientists use are:\n",
    "1. Python\n",
    "2. Java\n",
    "3. R"
   ]
  },
  {
   "cell_type": "markdown",
   "id": "4b14b086-2650-4e81-b78e-26878530694c",
   "metadata": {},
   "source": [
    "# Some of the commonly used libraries used by Data Scientists include:\n",
    "1. scikitlearn\n",
    "2. caret\n",
    "3. matplotlib"
   ]
  },
  {
   "cell_type": "markdown",
   "id": "3a76e016-3c75-4d42-9b6b-bdf736433277",
   "metadata": {},
   "source": [
    "| 3 development environment open source tools   |\n",
    "| ---  |\n",
    "| Jupyter Notebooks  |\n",
    "| Visual Studio Code  |\n",
    "| Sublime  |"
   ]
  },
  {
   "cell_type": "markdown",
   "id": "22e1f6ba-5f67-4563-af20-8682fc69acc7",
   "metadata": {},
   "source": [
    "### Below are a few examples of evaluating arithmetic expressions in Python.\n"
   ]
  },
  {
   "cell_type": "code",
   "execution_count": 1,
   "id": "7355d90b-85bf-453d-a248-158c90987b16",
   "metadata": {},
   "outputs": [],
   "source": [
    "#This a simple arithmetic expression to mutiply then add integers:"
   ]
  },
  {
   "cell_type": "code",
   "execution_count": 2,
   "id": "e472ddbd-baf0-4261-808d-f2093f96fb97",
   "metadata": {},
   "outputs": [
    {
     "data": {
      "text/plain": [
       "17"
      ]
     },
     "execution_count": 2,
     "metadata": {},
     "output_type": "execute_result"
    }
   ],
   "source": [
    "(3*4)+5"
   ]
  },
  {
   "cell_type": "code",
   "execution_count": 3,
   "id": "8eac2047-8b01-44f4-845d-92907b358231",
   "metadata": {},
   "outputs": [
    {
     "data": {
      "text/plain": [
       "3.3333333333333335"
      ]
     },
     "execution_count": 3,
     "metadata": {},
     "output_type": "execute_result"
    }
   ],
   "source": [
    "#This will convert 200 minutes to hours by diving by 60\n",
    "200/60"
   ]
  },
  {
   "cell_type": "code",
   "execution_count": null,
   "id": "77deaa16-00c0-44e8-a23b-65d863e84729",
   "metadata": {},
   "outputs": [],
   "source": []
  }
 ],
 "metadata": {
  "kernelspec": {
   "display_name": "Python 3 (ipykernel)",
   "language": "python",
   "name": "python3"
  },
  "language_info": {
   "codemirror_mode": {
    "name": "ipython",
    "version": 3
   },
   "file_extension": ".py",
   "mimetype": "text/x-python",
   "name": "python",
   "nbconvert_exporter": "python",
   "pygments_lexer": "ipython3",
   "version": "3.11.9"
  }
 },
 "nbformat": 4,
 "nbformat_minor": 5
}
